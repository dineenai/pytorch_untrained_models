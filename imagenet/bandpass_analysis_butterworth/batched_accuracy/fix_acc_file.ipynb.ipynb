{
 "cells": [
  {
   "cell_type": "code",
   "execution_count": 1,
   "metadata": {},
   "outputs": [
    {
     "name": "stdout",
     "output_type": "stream",
     "text": [
      "                                           model_pth  epoch   batch  top1acc  \\\n",
      "0  checkpoint_supervised_resnet50_bp_butter_low_b...      0     NaN    0.100   \n",
      "1  checkpoint_supervised_resnet50_bp_butter_mid_b...      0     NaN    0.100   \n",
      "2  checkpoint_supervised_resnet50_bp_butter_low_b...      0  1001.0    1.144   \n",
      "3  checkpoint_supervised_resnet50_bp_butter_low_b...      0  2002.0    2.390   \n",
      "4  checkpoint_supervised_resnet50_bp_butter_mid_b...      0  1001.0    0.534   \n",
      "\n",
      "   top5acc     loss train_band test_band  \n",
      "0    0.490  38.6000        low       low  \n",
      "1    0.500  24.3380        mid       mid  \n",
      "2    4.322   6.4629        low       low  \n",
      "3    8.074   6.0982        low       low  \n",
      "4    2.220   6.5301        mid       mid  \n",
      "                                           model_pth  epoch   batch  top1acc  \\\n",
      "0  checkpoint_supervised_resnet50_bp_butter_low_b...      0     NaN    0.100   \n",
      "1  checkpoint_supervised_resnet50_bp_butter_low_b...      0  1001.0    1.144   \n",
      "2  checkpoint_supervised_resnet50_bp_butter_low_b...      0  2002.0    2.390   \n",
      "3  checkpoint_supervised_resnet50_bp_butter_low_b...      0  3003.0    4.576   \n",
      "4  checkpoint_supervised_resnet50_bp_butter_low_b...      0  4004.0    6.934   \n",
      "\n",
      "   top5acc     loss train_band test_band  \n",
      "0    0.490  38.6000        low       low  \n",
      "1    4.322   6.4629        low       low  \n",
      "2    8.074   6.0982        low       low  \n",
      "3   13.500   5.7151        low       low  \n",
      "4   18.148   5.4366        low       low  \n"
     ]
    }
   ],
   "source": [
    "csv_path = \"/home/ainedineen/blurry_vision/pytorch_untrained_models/imagenet/bandpass_analysis_butterworth/batched_accuracy/supervised_resnet50_bp_butter_train-butter_test-butter_accuracy.csv\"\n",
    "low_out_path = \"/home/ainedineen/blurry_vision/pytorch_untrained_models/imagenet/bandpass_analysis_butterworth/batched_accuracy/supervised_resnet50_bp_butter_train-low_test-low_accuracy.csv\"\n",
    "mid_out_path = \"/home/ainedineen/blurry_vision/pytorch_untrained_models/imagenet/bandpass_analysis_butterworth/batched_accuracy/supervised_resnet50_bp_butter_train-mid_test-mid_accuracy.csv\"\n",
    "\n",
    "# load csv as dataframe with index\n",
    "import pandas as pd\n",
    "df = pd.read_csv(csv_path, index_col=0)\n",
    "\n",
    "\n",
    "# if low in model name, set test_band and train_band to low\n",
    "df.loc[df['model_pth'].str.contains('low'), 'test_band'] = 'low'\n",
    "df.loc[df['model_pth'].str.contains('low'), 'train_band'] = 'low'\n",
    "df.loc[df['model_pth'].str.contains('mid'), 'test_band'] = 'mid'\n",
    "df.loc[df['model_pth'].str.contains('mid'), 'train_band'] = 'mid'\n",
    "\n",
    "print(df.head())\n",
    "# print(df.columns)\n",
    "\n",
    "# new datafrane with only low rows, drop index\n",
    "df_low = df[df['test_band'] == 'low']\n",
    "df_low.reset_index(drop=True, inplace=True)\n",
    "print(df_low.head())\n",
    "# save to csv\n",
    "df_low.to_csv(low_out_path)\n",
    "\n",
    "\n",
    "df_mid = df[df['test_band'] == 'mid']\n",
    "# # reset index\n",
    "df_mid.reset_index(drop=True, inplace=True)\n",
    "\n",
    "# save to csv\n",
    "df_mid.to_csv(mid_out_path)\n",
    "\n",
    "# print(df_low.head())\n",
    "# print(df_low.columns)\n",
    "\n",
    "# print(df_mid.head())\n",
    "# print(df_mid.columns)"
   ]
  },
  {
   "cell_type": "code",
   "execution_count": null,
   "metadata": {},
   "outputs": [],
   "source": []
  }
 ],
 "metadata": {
  "kernelspec": {
   "display_name": ".env",
   "language": "python",
   "name": "python3"
  },
  "language_info": {
   "codemirror_mode": {
    "name": "ipython",
    "version": 3
   },
   "file_extension": ".py",
   "mimetype": "text/x-python",
   "name": "python",
   "nbconvert_exporter": "python",
   "pygments_lexer": "ipython3",
   "version": "3.7.6"
  }
 },
 "nbformat": 4,
 "nbformat_minor": 2
}
