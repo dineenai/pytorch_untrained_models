{
 "cells": [
  {
   "cell_type": "code",
   "execution_count": 6,
   "metadata": {},
   "outputs": [
    {
     "name": "stdout",
     "output_type": "stream",
     "text": [
      "           n_batches  corresponding_epoch  n_batches_rounded\n",
      "datapoint                                                   \n",
      "1           1.000000                    0                  1\n",
      "2           1.420000                    0                  1\n",
      "3           2.016400                    0                  2\n",
      "4           2.863288                    0                  3\n",
      "5           4.065869                    0                  4\n",
      "int64\n",
      "['batch0', 'batch1', 'batch2', 'batch3', 'batch5', 'batch7', 'batch11', 'batch16', 'batch22', 'batch32', 'batch46', 'batch66', 'batch94', 'batch135', 'batch191', 'batch272', 'batch387', 'batch550', 'batch781', 'batch1110', 'batch1577', 'batch2239', 'batch3181', 'batch4517', 'complete']\n",
      "['batch6414', 'batch9109', 'complete']\n",
      "['batch12935', 'complete']\n"
     ]
    }
   ],
   "source": [
    "import pandas as pd\n",
    "batches_df_path = '/home/ainedineen/blurry_vision/pytorch_untrained_models/imagenet/log_batches.csv'\n",
    "batches_df = pd.read_csv(batches_df_path, index_col=0)\n",
    "print(batches_df.head())\n",
    "# dtype of n_batches_rounded column\n",
    "batches_df['n_batches_rounded'].dtype\n",
    "print(batches_df['n_batches_rounded'].dtype)\n",
    "\n",
    "batches_df['n_batches_rounded'] = batches_df['n_batches_rounded'] - 1 #Zero-indexing\n",
    "for epoch in range(3):\n",
    "    # select rows for this epoch\n",
    "    epoch_rows_df = batches_df[batches_df['corresponding_epoch'] == epoch]\n",
    "    # print(epoch_rows_df)\n",
    "    batch_ids_to_save_for_epoch = epoch_rows_df['n_batches_rounded'].unique()\n",
    "   \n",
    "    batches = [f'batch{batch_id}' for batch_id in batch_ids_to_save_for_epoch]\n",
    "    # # append complete - optional but may as well\n",
    "    batches.append('complete')\n",
    "    print(batches)\n",
    "\n",
    "\n",
    "# batch_ids_to_save = batches_df['n_batches_rounded'].unique()\n",
    "# print(batch_ids_to_save)\n",
    "# print(len(batch_ids_to_save))\n",
    "\n",
    "# for batch in range(7):\n",
    "#     if batch in batch_ids_to_save:\n",
    "#         print(batch)\n",
    "\n",
    "\n",
    "# # n_batches column as int\n",
    "# batches_df['n_batches'] = batches_df['n_batches'].astype(int)\n",
    "# batches_df.head()\n",
    "# # is n_batches identical to n_batches_rounded?\n",
    "# batches_df['n_batches_rounded'] = batches_df['n_batches_rounded'].astype(int)\n",
    "# batches_df['n_batches_identical'] = batches_df['n_batches'] == batches_df['n_batches_rounded']\n",
    "# batches_df.head()\n",
    "\n",
    "\n",
    "\n"
   ]
  },
  {
   "cell_type": "code",
   "execution_count": null,
   "metadata": {},
   "outputs": [],
   "source": []
  }
 ],
 "metadata": {
  "kernelspec": {
   "display_name": "blurry_vision",
   "language": "python",
   "name": "python3"
  },
  "language_info": {
   "codemirror_mode": {
    "name": "ipython",
    "version": 3
   },
   "file_extension": ".py",
   "mimetype": "text/x-python",
   "name": "python",
   "nbconvert_exporter": "python",
   "pygments_lexer": "ipython3",
   "version": "3.7.7"
  }
 },
 "nbformat": 4,
 "nbformat_minor": 2
}
